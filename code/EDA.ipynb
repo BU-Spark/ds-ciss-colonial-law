{
 "cells": [
  {
   "cell_type": "code",
   "execution_count": null,
   "metadata": {},
   "outputs": [],
   "source": []
  },
  {
   "cell_type": "markdown",
   "metadata": {},
   "source": [
    "## EDA for Data Analysis"
   ]
  },
  {
   "cell_type": "code",
   "execution_count": 3,
   "metadata": {},
   "outputs": [],
   "source": [
    "# Import the packages\n",
    "import numpy as np\n",
    "import matplotlib.pyplot as plt\n",
    "import pandas as pd\n",
    "import seaborn as sns\n",
    "from pathlib import Path\n",
    "\n",
    "#"
   ]
  },
  {
   "cell_type": "code",
   "execution_count": 4,
   "metadata": {},
   "outputs": [
    {
     "name": "stdout",
     "output_type": "stream",
     "text": [
      "/Users/zoeyy/Desktop/xlab Intern/ds-ciss-colonial-law/data\n"
     ]
    }
   ],
   "source": [
    "# set up the path \n",
    "data_path = Path.cwd().parent / 'data'\n",
    "\n",
    "data_path.mkdir(exist_ok=True)\n",
    "print(data_path)"
   ]
  },
  {
   "cell_type": "code",
   "execution_count": 6,
   "metadata": {},
   "outputs": [
    {
     "name": "stdout",
     "output_type": "stream",
     "text": [
      "After droping, the data has '9862' rows\n"
     ]
    }
   ],
   "source": [
    "\n",
    "# Load the data\n",
    "data = pd.read_csv(data_path / 'final_case_details_0604_v1.csv')\n",
    "\n",
    "print(f\"After droping, the data has '{data.shape[0]}' rows\")\n"
   ]
  },
  {
   "cell_type": "code",
   "execution_count": 22,
   "metadata": {},
   "outputs": [
    {
     "name": "stdout",
     "output_type": "stream",
     "text": [
      "unique_id                  0\n",
      "year                       0\n",
      "date                     129\n",
      "case_NO                    0\n",
      "plaintiffs               153\n",
      "defendants               153\n",
      "lawyer_for_plaintiff     573\n",
      "lawyer_for_defendant    1113\n",
      "writer                    84\n",
      "syllabus                 163\n",
      "decision                 138\n",
      "concur                   702\n",
      "separate_opinion           0\n",
      "endnotes                   0\n",
      "url                        0\n",
      "is_chinese                 0\n",
      "dtype: int64\n",
      "Number of missing values: 1621\n"
     ]
    }
   ],
   "source": [
    "# 0. Checking missing values\n",
    "missing_values = data.isnull()\n",
    "index_missing_values = missing_values.any(axis=1)\n",
    "\n",
    "print(missing_values.sum())\n",
    "print(f\"Number of missing values: {index_missing_values.sum()}\")\n"
   ]
  },
  {
   "cell_type": "code",
   "execution_count": 27,
   "metadata": {},
   "outputs": [],
   "source": [
    "missing_value = data.loc[index_missing_values]\n",
    "missing_value.to_csv(data_path / 'missing_values.csv', index=False)"
   ]
  },
  {
   "cell_type": "code",
   "execution_count": 54,
   "metadata": {},
   "outputs": [
    {
     "name": "stdout",
     "output_type": "stream",
     "text": [
      "    year  is_chinese\n",
      "0   1901           2\n",
      "1   1902           9\n",
      "2   1903           7\n",
      "3   1904          15\n",
      "4   1905          23\n",
      "5   1906          43\n",
      "6   1907          45\n",
      "7   1908          46\n",
      "8   1909          37\n",
      "9   1910          35\n",
      "10  1911          34\n",
      "11  1912          36\n",
      "12  1913          16\n",
      "13  1914          29\n",
      "14  1915          54\n",
      "15  1916          66\n",
      "16  1917          41\n",
      "17  1918          23\n",
      "18  1919          15\n",
      "19  1920          12\n",
      "20  1921          20\n",
      "21  1922          11\n",
      "22  1923          15\n",
      "23  1924          26\n",
      "24  1925          11\n",
      "25  1926          15\n",
      "26  1927          13\n",
      "27  1928          12\n",
      "28  1929          16\n",
      "29  1930          10\n",
      "30  1931          15\n",
      "31  1932          12\n",
      "32  1933          21\n",
      "33  1934          30\n",
      "34  1935          30\n",
      "35  1936          19\n",
      "36  1937          16\n",
      "37  1938          15\n",
      "38  1939          18\n",
      "39  1940          12\n",
      "40  1941          12\n",
      "41  1942           3\n",
      "42  1943           1\n",
      "43  1944           2\n",
      "44  1945           5\n",
      "45  1946           7\n"
     ]
    }
   ],
   "source": [
    "# 1. Identify the Chinese cases\n",
    "chinese_name_list = ['Limjap', 'Boncan', 'Suiqn-sien','Tan','Dizo','Lim','Chua','Uy','Samson','Ong','Go','Yap','Tuazon','Sy Quia','Co','Tiamco','Lao','Jianquiao','Yatco','Singco']\n",
    "\n",
    "# Corrected is_chinese column creation\n",
    "data['is_chinese'] = (data['syllabus'].str.contains('Chinaman|chinaman|Chinese|China', case=False)) | (data['decision'].str.contains('Chinaman|chinaman|Chinese|China', case=False) | data['defendants'].str.contains('|'.join(chinese_name_list), case=True))\n",
    "data['is_chinese_con1'] = (data['syllabus'].str.contains('Chinaman|chinaman|Chinese|China', case=False)) | (data['decision'].str.contains('Chinaman|chinaman|Chinese|China', case=False))\n",
    "data['is_chinese_con2'] =  data['defendants'].str.contains('|'.join(chinese_name_list), case=True)\n",
    "\n",
    "# Group by year and count the occurrences of is_chinese\n",
    "result = data.groupby('year')['is_chinese'].sum().reset_index()\n",
    "\n",
    "print(result)\n"
   ]
  },
  {
   "cell_type": "code",
   "execution_count": 55,
   "metadata": {},
   "outputs": [
    {
     "name": "stdout",
     "output_type": "stream",
     "text": [
      "    year is_chinese_con2\n",
      "0   1901               0\n",
      "1   1902               0\n",
      "2   1903               0\n",
      "3   1904               1\n",
      "4   1905               1\n",
      "5   1906               0\n",
      "6   1907               0\n",
      "7   1908               0\n",
      "8   1909               1\n",
      "9   1910               0\n",
      "10  1911               0\n",
      "11  1912               3\n",
      "12  1913               0\n",
      "13  1914               0\n",
      "14  1915               0\n",
      "15  1916               0\n",
      "16  1917               1\n",
      "17  1918               0\n",
      "18  1919               3\n",
      "19  1920               0\n",
      "20  1921               1\n",
      "21  1922               0\n",
      "22  1923               0\n",
      "23  1924               0\n",
      "24  1925               0\n",
      "25  1926               0\n",
      "26  1927               0\n",
      "27  1928               0\n",
      "28  1929               0\n",
      "29  1930               0\n",
      "30  1931               0\n",
      "31  1932               0\n",
      "32  1933               0\n",
      "33  1934               0\n",
      "34  1935               0\n",
      "35  1936               0\n",
      "36  1937               0\n",
      "37  1938               1\n",
      "38  1939               0\n",
      "39  1940               1\n",
      "40  1941               0\n",
      "41  1942               0\n",
      "42  1943               0\n",
      "43  1944               0\n",
      "44  1945               0\n",
      "45  1946               0\n"
     ]
    }
   ],
   "source": [
    "result = data.groupby('year')['is_chinese_con2'].sum().reset_index()\n",
    "print(result)"
   ]
  },
  {
   "cell_type": "code",
   "execution_count": 56,
   "metadata": {},
   "outputs": [],
   "source": [
    "data[(data['is_chinese']==True)].to_csv(data_path / 'chinese_cases.csv', index=False)"
   ]
  },
  {
   "cell_type": "code",
   "execution_count": 32,
   "metadata": {},
   "outputs": [
    {
     "data": {
      "text/plain": [
       "92"
      ]
     },
     "execution_count": 32,
     "metadata": {},
     "output_type": "execute_result"
    }
   ],
   "source": [
    "\n",
    "(data['syllabus'].str.contains('Opium') | data['decision'].str.contains('Opium')).sum()"
   ]
  },
  {
   "cell_type": "code",
   "execution_count": 49,
   "metadata": {},
   "outputs": [
    {
     "data": {
      "text/html": [
       "<div>\n",
       "<style scoped>\n",
       "    .dataframe tbody tr th:only-of-type {\n",
       "        vertical-align: middle;\n",
       "    }\n",
       "\n",
       "    .dataframe tbody tr th {\n",
       "        vertical-align: top;\n",
       "    }\n",
       "\n",
       "    .dataframe thead th {\n",
       "        text-align: right;\n",
       "    }\n",
       "</style>\n",
       "<table border=\"1\" class=\"dataframe\">\n",
       "  <thead>\n",
       "    <tr style=\"text-align: right;\">\n",
       "      <th></th>\n",
       "      <th>unique_id</th>\n",
       "      <th>year</th>\n",
       "      <th>date</th>\n",
       "      <th>case_NO</th>\n",
       "      <th>plaintiffs</th>\n",
       "      <th>defendants</th>\n",
       "      <th>lawyer_for_plaintiff</th>\n",
       "      <th>lawyer_for_defendant</th>\n",
       "      <th>writer</th>\n",
       "      <th>syllabus</th>\n",
       "      <th>decision</th>\n",
       "      <th>concur</th>\n",
       "      <th>separate_opinion</th>\n",
       "      <th>endnotes</th>\n",
       "      <th>url</th>\n",
       "      <th>is_chinese</th>\n",
       "      <th>is_chinese_con1</th>\n",
       "      <th>is_chinese_con2</th>\n",
       "    </tr>\n",
       "  </thead>\n",
       "  <tbody>\n",
       "    <tr>\n",
       "      <th>2409</th>\n",
       "      <td>190954</td>\n",
       "      <td>1909</td>\n",
       "      <td>March 29, 1909</td>\n",
       "      <td>.</td>\n",
       "      <td>TOMAS GUISON Y SALCEDO, Petitioner-Appellee,</td>\n",
       "      <td>THE INSULAR GOVERNMENT, Respondent-Appellant. :</td>\n",
       "      <td>NaN</td>\n",
       "      <td>NaN</td>\n",
       "      <td>ARELLANO, C.J.</td>\n",
       "      <td>NaN</td>\n",
       "      <td>ARELLANO,C.J.: Tomas Guison y Salcedo applied ...</td>\n",
       "      <td>Torres, Mapa, Johnson, Carson and Williard, JJ...</td>\n",
       "      <td>False</td>\n",
       "      <td>False</td>\n",
       "      <td>https://chanrobles.com/cralaw/1909januarydecis...</td>\n",
       "      <td>True</td>\n",
       "      <td>False</td>\n",
       "      <td>True</td>\n",
       "    </tr>\n",
       "  </tbody>\n",
       "</table>\n",
       "</div>"
      ],
      "text/plain": [
       "      unique_id  year            date case_NO  \\\n",
       "2409     190954  1909  March 29, 1909       .   \n",
       "\n",
       "                                        plaintiffs  \\\n",
       "2409  TOMAS GUISON Y SALCEDO, Petitioner-Appellee,   \n",
       "\n",
       "                                           defendants lawyer_for_plaintiff  \\\n",
       "2409  THE INSULAR GOVERNMENT, Respondent-Appellant. :                  NaN   \n",
       "\n",
       "     lawyer_for_defendant          writer syllabus  \\\n",
       "2409                  NaN  ARELLANO, C.J.      NaN   \n",
       "\n",
       "                                               decision  \\\n",
       "2409  ARELLANO,C.J.: Tomas Guison y Salcedo applied ...   \n",
       "\n",
       "                                                 concur  separate_opinion  \\\n",
       "2409  Torres, Mapa, Johnson, Carson and Williard, JJ...             False   \n",
       "\n",
       "      endnotes                                                url  is_chinese  \\\n",
       "2409     False  https://chanrobles.com/cralaw/1909januarydecis...        True   \n",
       "\n",
       "      is_chinese_con1 is_chinese_con2  \n",
       "2409            False            True  "
      ]
     },
     "execution_count": 49,
     "metadata": {},
     "output_type": "execute_result"
    }
   ],
   "source": [
    "data[data['unique_id'] == 190954]"
   ]
  },
  {
   "cell_type": "code",
   "execution_count": 51,
   "metadata": {},
   "outputs": [
    {
     "data": {
      "text/plain": [
       "2409    False\n",
       "Name: defendants, dtype: bool"
      ]
     },
     "execution_count": 51,
     "metadata": {},
     "output_type": "execute_result"
    }
   ],
   "source": []
  },
  {
   "cell_type": "code",
   "execution_count": 38,
   "metadata": {},
   "outputs": [
    {
     "name": "stdout",
     "output_type": "stream",
     "text": [
      "Limjap|Boncan|Suiqn-sien|Tan|Dizo|Lim|Chua|Uy|Samson|Ong|Go|Yap|Tuazon|Sy Quia|Co|Tiamco|Lao|Jianquiao|Yatco|Singco\n"
     ]
    }
   ],
   "source": [
    "print('|'.join(chinese_name_list))"
   ]
  },
  {
   "cell_type": "code",
   "execution_count": 41,
   "metadata": {},
   "outputs": [
    {
     "data": {
      "text/plain": [
       "<pandas.core.strings.accessor.StringMethods at 0x2ad6cc150>"
      ]
     },
     "execution_count": 41,
     "metadata": {},
     "output_type": "execute_result"
    }
   ],
   "source": [
    "data['defendants'].str"
   ]
  },
  {
   "cell_type": "code",
   "execution_count": null,
   "metadata": {},
   "outputs": [],
   "source": []
  }
 ],
 "metadata": {
  "kernelspec": {
   "display_name": "base",
   "language": "python",
   "name": "python3"
  },
  "language_info": {
   "codemirror_mode": {
    "name": "ipython",
    "version": 3
   },
   "file_extension": ".py",
   "mimetype": "text/x-python",
   "name": "python",
   "nbconvert_exporter": "python",
   "pygments_lexer": "ipython3",
   "version": "3.11.4"
  }
 },
 "nbformat": 4,
 "nbformat_minor": 2
}
